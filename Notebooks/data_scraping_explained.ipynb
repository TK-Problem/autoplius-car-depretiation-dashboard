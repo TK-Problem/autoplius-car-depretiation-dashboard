{
 "cells": [
  {
   "cell_type": "code",
   "execution_count": 1,
   "id": "06360f21",
   "metadata": {},
   "outputs": [],
   "source": [
    "# for getting JavaScript rendered HTML\n",
    "from selenium.webdriver import Firefox\n",
    "# Objects for implicit waits\n",
    "from selenium.webdriver.common.by import By\n",
    "from selenium.webdriver.support.ui import WebDriverWait\n",
    "from selenium.webdriver.support import expected_conditions as EC\n",
    "from selenium.common.exceptions import TimeoutException\n",
    "# for explicit waits\n",
    "import time\n",
    "# for getting raw HTML without JS rendered\n",
    "import requests\n",
    "# for processing HTML\n",
    "from bs4 import BeautifulSoup\n",
    "# for linear fit depretiation graphs\n",
    "import numpy as np\n",
    "# for saving data\n",
    "import pandas as pd\n",
    "# for ploting data\n",
    "import matplotlib.pyplot as plt\n",
    "# figures will use 'ggplot' style \n",
    "plt.style.use('ggplot')"
   ]
  },
  {
   "cell_type": "markdown",
   "id": "ba83360e",
   "metadata": {},
   "source": [
    "# 1. Extract graph data\n",
    "\n",
    "## 1.1 Download JavaScript rendered HTML code\n",
    "\n",
    "One can use other webdrivers (`Firefox` was used for HTML code analysis).\n",
    "\n",
    "* `executable_path` is **depretatited** for `selenium` ver. `>=4.0`"
   ]
  },
  {
   "cell_type": "code",
   "execution_count": 2,
   "id": "497ed251",
   "metadata": {},
   "outputs": [],
   "source": [
    "# create webdriver, ADD your own path!!!\n",
    "driver = Firefox(executable_path=r\"ADD_YOUR_CODE\")\n",
    "# maximize window\n",
    "driver.maximize_window()"
   ]
  },
  {
   "cell_type": "code",
   "execution_count": 3,
   "id": "adcd3a14",
   "metadata": {},
   "outputs": [],
   "source": [
    "# load example URL for testing scraping\n",
    "url = 'https://autoplius.lt/skelbimai/volkswagen-golf-1-4-l-universalas-2017-benzinas-16955821.html'\n",
    "driver.get(url)"
   ]
  },
  {
   "cell_type": "code",
   "execution_count": 4,
   "id": "512cc1d1",
   "metadata": {},
   "outputs": [],
   "source": [
    "# create wait object\n",
    "wait = WebDriverWait(driver, 20)\n",
    "# wait till pop-up appears and click\n",
    "try:\n",
    "    e = wait.until(EC.element_to_be_clickable((By.XPATH, \"//button[@id='onetrust-accept-btn-handler']\")))\n",
    "except:\n",
    "    print(\"pop-up didn't appear within 20 sec\")\n",
    "else:\n",
    "    e.click()"
   ]
  },
  {
   "cell_type": "markdown",
   "id": "a5cb2039",
   "metadata": {},
   "source": [
    "### Example of add page\n",
    "\n",
    "![Example_of add page](images/wv_add_example.png \"vw_golf_add_example\")"
   ]
  },
  {
   "cell_type": "markdown",
   "id": "c0d2d6f9",
   "metadata": {},
   "source": [
    "## 1.2 Extract data from `svg` graph\n",
    "\n",
    "Locate figure using `xpath`.\n",
    "![WV 2017 devaluation graph](images/vw_golf_2017_devaluation.png \"vw_golf_devaluation\")"
   ]
  },
  {
   "cell_type": "code",
   "execution_count": 5,
   "id": "9321b2f8",
   "metadata": {},
   "outputs": [],
   "source": [
    "# take screen shot of devaluation graph\n",
    "fname = 'images/vw_golf_2017_devaluation.png'\n",
    "driver.find_element_by_xpath(\"//div[@class='row devaluation-row']\").screenshot(fname);"
   ]
  },
  {
   "cell_type": "markdown",
   "id": "63f13911",
   "metadata": {},
   "source": [
    "By inspecting HTML elements, one can find that graph was Java Scriped rendered and data (year and price) is stored in x-, y- coordinate values, `cx` and `cy` respectively.\n",
    "\n",
    "![Breakdown HTML code](images/data_located.png \"devaluation_data\") "
   ]
  },
  {
   "cell_type": "code",
   "execution_count": 6,
   "id": "10d77c33",
   "metadata": {},
   "outputs": [],
   "source": [
    "# use beautiful soup to parse html code\n",
    "soup = BeautifulSoup(driver.page_source, \"lxml\")\n",
    "# get chart element\n",
    "chart = soup.find('div', {'class': 'row devaluation-row'})"
   ]
  },
  {
   "cell_type": "code",
   "execution_count": 7,
   "id": "fa1ff1d6",
   "metadata": {},
   "outputs": [
    {
     "data": {
      "text/plain": [
       "{'216.5': '2017',\n",
       " '377.25': '2018',\n",
       " '538': '2019',\n",
       " '698.75': '2020',\n",
       " '859.5': '2021'}"
      ]
     },
     "execution_count": 7,
     "metadata": {},
     "output_type": "execute_result"
    }
   ],
   "source": [
    "\"\"\"\n",
    "data is stored in x and y coordinates. To convert these back to years and euros,\n",
    "one needs to extract conversion values from x and y axis ticks\n",
    "\"\"\"\n",
    "\n",
    "# get x and y values from legend object\n",
    "legend = chart.findAll('text')\n",
    "# year values based on x coordinates\n",
    "year_dict = {_['x']:_.text for _ in legend if _['text-anchor'] == 'middle'}\n",
    "# x- coordinates and coresponding years\n",
    "year_dict"
   ]
  },
  {
   "cell_type": "code",
   "execution_count": 8,
   "id": "0c552be9",
   "metadata": {},
   "outputs": [
    {
     "name": "stdout",
     "output_type": "stream",
     "text": [
      "x- coordinates: [272.5, 223.7, 174.9, 126.1, 77.3, 28.5]\n",
      "y- values:      [0, 5000, 10000, 15000, 20000, 25000]\n"
     ]
    }
   ],
   "source": [
    "# get prices from y coordinates\n",
    "# substact 3.5 from y axis to account for names offset\n",
    "x_price = [float(_['y'])-3.5 for _ in legend if _['text-anchor'] == 'end']\n",
    "y_price = [int(_.text[:-2]) for _ in legend if _['text-anchor'] == 'end']\n",
    "print(f'x- coordinates: {x_price}')\n",
    "print(f'y- values:      {y_price}')"
   ]
  },
  {
   "cell_type": "code",
   "execution_count": 9,
   "id": "bb412289",
   "metadata": {},
   "outputs": [
    {
     "name": "stdout",
     "output_type": "stream",
     "text": [
      "y = -102.46x + 27920.08\n"
     ]
    }
   ],
   "source": [
    "# apply linear fit to extract intermediate price values\n",
    "# y = k*x+c, where k slope, c- constant\n",
    "k, c = np.polyfit(x_price, y_price, 1)\n",
    "print(f'y = {k:.2f}x + {c:.2f}')"
   ]
  },
  {
   "cell_type": "code",
   "execution_count": 10,
   "id": "0f713647",
   "metadata": {},
   "outputs": [
    {
     "data": {
      "image/png": "[encoded data removed]",
      "text/plain": [
       "<Figure size 1152x288 with 1 Axes>"
      ]
     },
     "metadata": {},
     "output_type": "display_data"
    }
   ],
   "source": [
    "# visualize equation\n",
    "fig, ax = plt.subplots(figsize=(16, 4))\n",
    "ax.scatter(x_price, y_price, label='original')\n",
    "_x_fit = np.linspace(x_price[0], x_price[-1], 50)\n",
    "ax.plot(_x_fit, k*_x_fit+c, 'k--', label='lin- fitted', zorder=-1)\n",
    "\n",
    "# add x- and y- axis labels\n",
    "ax.set_xlabel('y- coordinates')\n",
    "ax.set_ylabel('Price (€)')\n",
    "\n",
    "# add legend with white background\n",
    "legend = ax.legend(frameon = 1, fontsize=18, bbox_to_anchor=(1., 1.02))\n",
    "frame = legend.get_frame()\n",
    "frame.set_facecolor('w')"
   ]
  },
  {
   "cell_type": "code",
   "execution_count": 11,
   "id": "30dd4b15",
   "metadata": {},
   "outputs": [
    {
     "data": {
      "text/html": [
       "<div>\n",
       "<style scoped>\n",
       "    .dataframe tbody tr th:only-of-type {\n",
       "        vertical-align: middle;\n",
       "    }\n",
       "\n",
       "    .dataframe tbody tr th {\n",
       "        vertical-align: top;\n",
       "    }\n",
       "\n",
       "    .dataframe thead th {\n",
       "        text-align: right;\n",
       "    }\n",
       "</style>\n",
       "<table border=\"1\" class=\"dataframe\">\n",
       "  <thead>\n",
       "    <tr style=\"text-align: right;\">\n",
       "      <th></th>\n",
       "      <th>Year</th>\n",
       "      <th>Low</th>\n",
       "      <th>Medium</th>\n",
       "      <th>High</th>\n",
       "    </tr>\n",
       "  </thead>\n",
       "  <tbody>\n",
       "    <tr>\n",
       "      <th>0</th>\n",
       "      <td>2017</td>\n",
       "      <td>15300</td>\n",
       "      <td>17200</td>\n",
       "      <td>22100</td>\n",
       "    </tr>\n",
       "    <tr>\n",
       "      <th>1</th>\n",
       "      <td>2018</td>\n",
       "      <td>12700</td>\n",
       "      <td>16800</td>\n",
       "      <td>20100</td>\n",
       "    </tr>\n",
       "    <tr>\n",
       "      <th>2</th>\n",
       "      <td>2019</td>\n",
       "      <td>10300</td>\n",
       "      <td>14200</td>\n",
       "      <td>18200</td>\n",
       "    </tr>\n",
       "    <tr>\n",
       "      <th>3</th>\n",
       "      <td>2020</td>\n",
       "      <td>7900</td>\n",
       "      <td>11000</td>\n",
       "      <td>14600</td>\n",
       "    </tr>\n",
       "    <tr>\n",
       "      <th>4</th>\n",
       "      <td>2021</td>\n",
       "      <td>8200</td>\n",
       "      <td>11200</td>\n",
       "      <td>14500</td>\n",
       "    </tr>\n",
       "  </tbody>\n",
       "</table>\n",
       "</div>"
      ],
      "text/plain": [
       "   Year    Low Medium   High\n",
       "0  2017  15300  17200  22100\n",
       "1  2018  12700  16800  20100\n",
       "2  2019  10300  14200  18200\n",
       "3  2020   7900  11000  14600\n",
       "4  2021   8200  11200  14500"
      ]
     },
     "execution_count": 11,
     "metadata": {},
     "output_type": "execute_result"
    }
   ],
   "source": [
    "# now we can extract any price by knowing data point coordinates\n",
    "# get positions of all data points\n",
    "data_points = chart.findAll('circle')\n",
    "# based on object fill color seprate points into low, medium and high price lists\n",
    "# use k and c fit values to extract prices\n",
    "\n",
    "# get year column from low prices\n",
    "data = [[year_dict[_['cx']] for _ in data_points if _['fill'] == '#76ddfa']]\n",
    "# get prices using fill color, low prices\n",
    "data.append([int(k*float(_['cy'])+c) for _ in data_points if _['fill'] == '#76ddfa'])\n",
    "# medium prices\n",
    "data.append([int(k*float(_['cy'])+c) for _ in data_points if _['fill'] == '#428dc2'])\n",
    "# high prices\n",
    "data.append([int(k*float(_['cy'])+c) for _ in data_points if _['fill'] == '#60ade1'])\n",
    "# create DataFrame and transpose it\n",
    "df = pd.DataFrame(data, index=['Year', 'Low', 'Medium', 'High']).T\n",
    "df"
   ]
  },
  {
   "cell_type": "code",
   "execution_count": 12,
   "id": "d9718260",
   "metadata": {},
   "outputs": [
    {
     "data": {
      "image/png": "[encoded data removed]",
      "text/plain": [
       "<Figure size 1152x288 with 1 Axes>"
      ]
     },
     "metadata": {},
     "output_type": "display_data"
    }
   ],
   "source": [
    "# visualize\n",
    "fig, ax = plt.subplots(figsize=(16, 4))\n",
    "for col in ['Low', 'Medium', 'High']:\n",
    "    ax.plot(df.Year, df[col], 'o-', label=col)\n",
    "    \n",
    "ax.set_xlabel('Year')\n",
    "ax.set_ylabel('Price (€)')\n",
    "\n",
    "# add legend with white background\n",
    "legend = ax.legend(frameon = 1, fontsize=16, bbox_to_anchor=(1., 1.02))\n",
    "frame = legend.get_frame()\n",
    "frame.set_facecolor('w')"
   ]
  },
  {
   "cell_type": "markdown",
   "id": "98cc3859",
   "metadata": {},
   "source": [
    "## 1.3 Create function for extrating data from `.svg` graph"
   ]
  },
  {
   "cell_type": "code",
   "execution_count": 13,
   "id": "b0cdcdc1",
   "metadata": {},
   "outputs": [],
   "source": [
    "def get_deval_data(soup):\n",
    "    \"\"\"\n",
    "    Returns pandas DataFrame with 4 columns:\n",
    "    - year (str),\n",
    "    - low (int), low price,\n",
    "    - medium (int), medium price,\n",
    "    - high (int), high price.\n",
    "    Input:\n",
    "        soup: bs4 element, html\n",
    "    Output:\n",
    "        pandas DataFrame\n",
    "    \"\"\"\n",
    "    # get chart element\n",
    "    chart = soup.find('div', {'class': 'row devaluation-row'})\n",
    "    # get x and y values from legend object\n",
    "    legend = chart.findAll('text')\n",
    "    # year values based on x coordinates\n",
    "    year_dict = {_['x']:_.text for _ in legend if _['text-anchor'] == 'middle'}\n",
    "    # get prices from y coordinates\n",
    "    # substact 3.5 from y axis to account for names offset\n",
    "    _x = [float(_['y'])-3.5 for _ in legend if _['text-anchor'] == 'end']\n",
    "    _y = [int(_.text[:-2]) for _ in legend if _['text-anchor'] == 'end']\n",
    "    # apply linear fit to extract intermediate price values\n",
    "    # y = k*x+c, where k slope, c- constant\n",
    "    k, c = np.polyfit(_x, _y, 1)\n",
    "    # get positions of all data points\n",
    "    data_points = chart.findAll('circle')\n",
    "    # get year column from low prices\n",
    "    data = [[year_dict[_['cx']] for _ in data_points if _['fill'] == '#76ddfa']]\n",
    "    # get prices using fill color, low prices\n",
    "    data.append([int(k*float(_['cy'])+c) for _ in data_points if _['fill'] == '#76ddfa'])\n",
    "    # medium prices\n",
    "    data.append([int(k*float(_['cy'])+c) for _ in data_points if _['fill'] == '#428dc2'])\n",
    "    # high prices\n",
    "    data.append([int(k*float(_['cy'])+c) for _ in data_points if _['fill'] == '#60ade1'])\n",
    "    # create DataFrame and transpose it\n",
    "    return pd.DataFrame(data, index=['Year', 'Low', 'Medium', 'High']).T    "
   ]
  },
  {
   "cell_type": "code",
   "execution_count": 14,
   "id": "469d0456",
   "metadata": {},
   "outputs": [
    {
     "data": {
      "text/html": [
       "<div>\n",
       "<style scoped>\n",
       "    .dataframe tbody tr th:only-of-type {\n",
       "        vertical-align: middle;\n",
       "    }\n",
       "\n",
       "    .dataframe tbody tr th {\n",
       "        vertical-align: top;\n",
       "    }\n",
       "\n",
       "    .dataframe thead th {\n",
       "        text-align: right;\n",
       "    }\n",
       "</style>\n",
       "<table border=\"1\" class=\"dataframe\">\n",
       "  <thead>\n",
       "    <tr style=\"text-align: right;\">\n",
       "      <th></th>\n",
       "      <th>Year</th>\n",
       "      <th>Low</th>\n",
       "      <th>Medium</th>\n",
       "      <th>High</th>\n",
       "    </tr>\n",
       "  </thead>\n",
       "  <tbody>\n",
       "    <tr>\n",
       "      <th>0</th>\n",
       "      <td>2011</td>\n",
       "      <td>8700</td>\n",
       "      <td>10800</td>\n",
       "      <td>12500</td>\n",
       "    </tr>\n",
       "    <tr>\n",
       "      <th>1</th>\n",
       "      <td>2012</td>\n",
       "      <td>6400</td>\n",
       "      <td>8100</td>\n",
       "      <td>10000</td>\n",
       "    </tr>\n",
       "    <tr>\n",
       "      <th>2</th>\n",
       "      <td>2013</td>\n",
       "      <td>5300</td>\n",
       "      <td>7100</td>\n",
       "      <td>8800</td>\n",
       "    </tr>\n",
       "    <tr>\n",
       "      <th>3</th>\n",
       "      <td>2014</td>\n",
       "      <td>4700</td>\n",
       "      <td>6000</td>\n",
       "      <td>7500</td>\n",
       "    </tr>\n",
       "    <tr>\n",
       "      <th>4</th>\n",
       "      <td>2015</td>\n",
       "      <td>4000</td>\n",
       "      <td>5300</td>\n",
       "      <td>6800</td>\n",
       "    </tr>\n",
       "    <tr>\n",
       "      <th>5</th>\n",
       "      <td>2016</td>\n",
       "      <td>3900</td>\n",
       "      <td>5000</td>\n",
       "      <td>6300</td>\n",
       "    </tr>\n",
       "    <tr>\n",
       "      <th>6</th>\n",
       "      <td>2017</td>\n",
       "      <td>3400</td>\n",
       "      <td>4600</td>\n",
       "      <td>5900</td>\n",
       "    </tr>\n",
       "    <tr>\n",
       "      <th>7</th>\n",
       "      <td>2018</td>\n",
       "      <td>2800</td>\n",
       "      <td>4000</td>\n",
       "      <td>5200</td>\n",
       "    </tr>\n",
       "    <tr>\n",
       "      <th>8</th>\n",
       "      <td>2019</td>\n",
       "      <td>2300</td>\n",
       "      <td>3400</td>\n",
       "      <td>4500</td>\n",
       "    </tr>\n",
       "    <tr>\n",
       "      <th>9</th>\n",
       "      <td>2020</td>\n",
       "      <td>2100</td>\n",
       "      <td>3000</td>\n",
       "      <td>4000</td>\n",
       "    </tr>\n",
       "    <tr>\n",
       "      <th>10</th>\n",
       "      <td>2021</td>\n",
       "      <td>2200</td>\n",
       "      <td>3200</td>\n",
       "      <td>4100</td>\n",
       "    </tr>\n",
       "  </tbody>\n",
       "</table>\n",
       "</div>"
      ],
      "text/plain": [
       "    Year   Low Medium   High\n",
       "0   2011  8700  10800  12500\n",
       "1   2012  6400   8100  10000\n",
       "2   2013  5300   7100   8800\n",
       "3   2014  4700   6000   7500\n",
       "4   2015  4000   5300   6800\n",
       "5   2016  3900   5000   6300\n",
       "6   2017  3400   4600   5900\n",
       "7   2018  2800   4000   5200\n",
       "8   2019  2300   3400   4500\n",
       "9   2020  2100   3000   4000\n",
       "10  2021  2200   3200   4100"
      ]
     },
     "execution_count": 14,
     "metadata": {},
     "output_type": "execute_result"
    }
   ],
   "source": [
    "# test function on another random car add\n",
    "url = 'https://autoplius.lt/skelbimai/mercedes-benz-e320-3-2-l-universalas-2004-dyzelinas-17690273.html'\n",
    "# create wait object\n",
    "wait = WebDriverWait(driver, 20)\n",
    "# go to page\n",
    "driver.get(url)\n",
    "# scroll down \n",
    "driver.execute_script(\"window.scrollTo(0, document.body.scrollHeight);\")\n",
    "# wait till chart object becomes visible\n",
    "try:\n",
    "    wait.until(EC.visibility_of_element_located((By.ID, \"devaluation-chart\")))  \n",
    "except TimeoutException:\n",
    "    print(\"Chart object is not available or didn't load within 20 sec.\")\n",
    "    \n",
    "# create beautiful soup element to parse html code\n",
    "soup = BeautifulSoup(driver.page_source, \"lxml\")\n",
    "\n",
    "# double check if chart is available\n",
    "if soup.find('div', {'class': 'row devaluation-row'}):\n",
    "    df = get_deval_data(soup)\n",
    "    # take screen shot of depresiation graph\n",
    "    fname = 'devaluation_random.png'\n",
    "    driver.find_element_by_xpath(\"//div[@class='row devaluation-row']\").screenshot(fname)\n",
    "else:\n",
    "    df = pd.DataFrame()  \n",
    "df"
   ]
  },
  {
   "cell_type": "code",
   "execution_count": 15,
   "id": "660c78eb",
   "metadata": {},
   "outputs": [],
   "source": [
    "# take screen shot of devaluation graph\n",
    "fname = 'images/MB_E320_2004_devaluation.png'\n",
    "driver.find_element_by_xpath(\"//div[@class='row devaluation-row']\").screenshot(fname);"
   ]
  },
  {
   "cell_type": "code",
   "execution_count": 16,
   "id": "f82f0fc7",
   "metadata": {},
   "outputs": [
    {
     "data": {
      "image/png": "[encoded data removed]",
      "text/plain": [
       "<Figure size 1152x288 with 1 Axes>"
      ]
     },
     "metadata": {},
     "output_type": "display_data"
    }
   ],
   "source": [
    "# visualize\n",
    "fig, ax = plt.subplots(figsize=(16, 4))\n",
    "for col in ['Low', 'Medium', 'High']:\n",
    "    ax.plot(df.Year.astype(int), df[col], 'o-', label=col)\n",
    "    \n",
    "ax.set_xlabel('Year')\n",
    "ax.set_ylabel('Price (€)')\n",
    "\n",
    "# make same y-axis ranges as in the example\n",
    "ax.set_yticks(np.arange(0, 13000, 2500))\n",
    "ax.set_ylim(0, 12500)\n",
    "ax.set_xticks(np.arange(2011, 2022, 1))\n",
    "ax.set_xlim(2011, 2021)\n",
    "\n",
    "# add legend with white background\n",
    "legend = ax.legend(frameon = 1, fontsize=16, bbox_to_anchor=(1., 1.02))\n",
    "frame = legend.get_frame()\n",
    "frame.set_facecolor('w')"
   ]
  },
  {
   "cell_type": "markdown",
   "id": "f79b957a",
   "metadata": {},
   "source": [
    "Got same data as expected.\n",
    "![](images/MB_E320_2004_devaluation.png \"Mercedes-Benz E320 devaluation data\") \n"
   ]
  },
  {
   "cell_type": "code",
   "execution_count": 17,
   "id": "aa975cef",
   "metadata": {},
   "outputs": [],
   "source": [
    "def read_chart(url, fname='devaluation_random.png'):\n",
    "    \"\"\"\n",
    "    Save devaluation graph to .png file and returns DataFrame with it's data if\n",
    "    such graph is available in car add referenced by url variable.    \n",
    "    Input:\n",
    "        url, str, link to autoplius car add,\n",
    "        fname, str, file name for saving image\n",
    "    Output:\n",
    "        pandas DataFrame or None if graph was not found\n",
    "    \"\"\"\n",
    "    global driver, wait\n",
    "    # go to page\n",
    "    driver.get(url)\n",
    "    # scroll down \n",
    "    driver.execute_script(\"window.scrollTo(0, document.body.scrollHeight);\")\n",
    "    # wait till chart object becomes visible\n",
    "    try:\n",
    "        wait.until(EC.visibility_of_element_located((By.ID, \"devaluation-chart\")))\n",
    "\n",
    "    except TimeoutException:\n",
    "        print(\"Chart object is not available or didn't load within 20 sec.\")\n",
    "        # exit function with None\n",
    "        return None\n",
    "        \n",
    "    # create beautiful soup element to parse html code\n",
    "    soup = BeautifulSoup(driver.page_source, \"lxml\")\n",
    "        \n",
    "    # double check if chart is available\n",
    "    if soup.find('div', {'class': 'row devaluation-row'}):\n",
    "        # create DataFrame\n",
    "        df = get_deval_data(soup)\n",
    "        # take screen shot of depresiation graph\n",
    "        driver.find_element_by_xpath(\"//div[@class='row devaluation-row']\").screenshot(fname)\n",
    "    else:\n",
    "        # if chart is not preset return None value as DataFrame\n",
    "        df = None\n",
    "        \n",
    "    return df"
   ]
  },
  {
   "cell_type": "code",
   "execution_count": 18,
   "id": "bc401342",
   "metadata": {},
   "outputs": [
    {
     "data": {
      "text/html": [
       "<div>\n",
       "<style scoped>\n",
       "    .dataframe tbody tr th:only-of-type {\n",
       "        vertical-align: middle;\n",
       "    }\n",
       "\n",
       "    .dataframe tbody tr th {\n",
       "        vertical-align: top;\n",
       "    }\n",
       "\n",
       "    .dataframe thead th {\n",
       "        text-align: right;\n",
       "    }\n",
       "</style>\n",
       "<table border=\"1\" class=\"dataframe\">\n",
       "  <thead>\n",
       "    <tr style=\"text-align: right;\">\n",
       "      <th></th>\n",
       "      <th>Year</th>\n",
       "      <th>Low</th>\n",
       "      <th>Medium</th>\n",
       "      <th>High</th>\n",
       "    </tr>\n",
       "  </thead>\n",
       "  <tbody>\n",
       "    <tr>\n",
       "      <th>0</th>\n",
       "      <td>2018</td>\n",
       "      <td>30499</td>\n",
       "      <td>30499</td>\n",
       "      <td>30499</td>\n",
       "    </tr>\n",
       "    <tr>\n",
       "      <th>1</th>\n",
       "      <td>2019</td>\n",
       "      <td>19199</td>\n",
       "      <td>20199</td>\n",
       "      <td>20899</td>\n",
       "    </tr>\n",
       "    <tr>\n",
       "      <th>2</th>\n",
       "      <td>2020</td>\n",
       "      <td>15599</td>\n",
       "      <td>16899</td>\n",
       "      <td>18199</td>\n",
       "    </tr>\n",
       "    <tr>\n",
       "      <th>3</th>\n",
       "      <td>2021</td>\n",
       "      <td>15399</td>\n",
       "      <td>17099</td>\n",
       "      <td>18799</td>\n",
       "    </tr>\n",
       "  </tbody>\n",
       "</table>\n",
       "</div>"
      ],
      "text/plain": [
       "   Year    Low Medium   High\n",
       "0  2018  30499  30499  30499\n",
       "1  2019  19199  20199  20899\n",
       "2  2020  15599  16899  18199\n",
       "3  2021  15399  17099  18799"
      ]
     },
     "execution_count": 18,
     "metadata": {},
     "output_type": "execute_result"
    }
   ],
   "source": [
    "# random add\n",
    "url = 'https://autoplius.lt/skelbimai/mazda-6-2-5-l-sedanas-2018-benzinas-17360953.html'\n",
    "# test function\n",
    "df = read_chart(url)\n",
    "df"
   ]
  },
  {
   "cell_type": "markdown",
   "id": "bd3b8246",
   "metadata": {},
   "source": [
    "# 2. Get most popular car model urls\n",
    "\n",
    "## 2.1 Count how many adds per car manufacturer"
   ]
  },
  {
   "cell_type": "code",
   "execution_count": 19,
   "id": "aad65631",
   "metadata": {},
   "outputs": [],
   "source": [
    "# use mobile website version for better HTML code readability\n",
    "url = 'https://m.autoplius.lt/paieska/reiksmes-parinkimas/naudoti-automobiliai?field_name=make_id&parent_value_id=104&title_page=1&qt=&qt_autocomplete=&category_id=2'\n",
    "# go to page\n",
    "driver.get(url)"
   ]
  },
  {
   "cell_type": "code",
   "execution_count": 20,
   "id": "4bc16737",
   "metadata": {},
   "outputs": [
    {
     "data": {
      "text/html": [
       "<div>\n",
       "<style scoped>\n",
       "    .dataframe tbody tr th:only-of-type {\n",
       "        vertical-align: middle;\n",
       "    }\n",
       "\n",
       "    .dataframe tbody tr th {\n",
       "        vertical-align: top;\n",
       "    }\n",
       "\n",
       "    .dataframe thead th {\n",
       "        text-align: right;\n",
       "    }\n",
       "</style>\n",
       "<table border=\"1\" class=\"dataframe\">\n",
       "  <thead>\n",
       "    <tr style=\"text-align: right;\">\n",
       "      <th></th>\n",
       "      <th>Manufacturer</th>\n",
       "      <th>Add_count</th>\n",
       "    </tr>\n",
       "  </thead>\n",
       "  <tbody>\n",
       "    <tr>\n",
       "      <th>0</th>\n",
       "      <td>Alfa Romeo</td>\n",
       "      <td>107</td>\n",
       "    </tr>\n",
       "    <tr>\n",
       "      <th>1</th>\n",
       "      <td>Audi</td>\n",
       "      <td>2905</td>\n",
       "    </tr>\n",
       "    <tr>\n",
       "      <th>2</th>\n",
       "      <td>BMW</td>\n",
       "      <td>4133</td>\n",
       "    </tr>\n",
       "    <tr>\n",
       "      <th>3</th>\n",
       "      <td>Chevrolet</td>\n",
       "      <td>251</td>\n",
       "    </tr>\n",
       "    <tr>\n",
       "      <th>4</th>\n",
       "      <td>Chrysler</td>\n",
       "      <td>251</td>\n",
       "    </tr>\n",
       "  </tbody>\n",
       "</table>\n",
       "</div>"
      ],
      "text/plain": [
       "  Manufacturer  Add_count\n",
       "0   Alfa Romeo        107\n",
       "1         Audi       2905\n",
       "2          BMW       4133\n",
       "3    Chevrolet        251\n",
       "4     Chrysler        251"
      ]
     },
     "execution_count": 20,
     "metadata": {},
     "output_type": "execute_result"
    }
   ],
   "source": [
    "# create beautiful soup element to parse html code\n",
    "soup = BeautifulSoup(driver.page_source, \"lxml\")\n",
    "# get search results\n",
    "rows = soup.find('section', {'class': 'panel'}).findAll('a', {'class': 'search-dropdown'})\n",
    "# create empty list for storing data\n",
    "data = list()\n",
    "# iterate over rows\n",
    "for row in rows:\n",
    "    add_count = int(row.span.text)\n",
    "    # record car manufacturers with atleast 50 available car adds\n",
    "    if add_count >= 50:\n",
    "        data.append([row['title'], add_count])\n",
    "        \n",
    "# create DataFrame with add count per manufacturer    \n",
    "df_man = pd.DataFrame(data, columns=['Manufacturer', 'Add_count'])\n",
    "df_man.head()"
   ]
  },
  {
   "cell_type": "code",
   "execution_count": 21,
   "id": "eb31949a",
   "metadata": {},
   "outputs": [
    {
     "data": {
      "text/html": [
       "<div>\n",
       "<style scoped>\n",
       "    .dataframe tbody tr th:only-of-type {\n",
       "        vertical-align: middle;\n",
       "    }\n",
       "\n",
       "    .dataframe tbody tr th {\n",
       "        vertical-align: top;\n",
       "    }\n",
       "\n",
       "    .dataframe thead th {\n",
       "        text-align: right;\n",
       "    }\n",
       "</style>\n",
       "<table border=\"1\" class=\"dataframe\">\n",
       "  <thead>\n",
       "    <tr style=\"text-align: right;\">\n",
       "      <th></th>\n",
       "      <th>Manufacturer</th>\n",
       "      <th>Add_count</th>\n",
       "    </tr>\n",
       "  </thead>\n",
       "  <tbody>\n",
       "    <tr>\n",
       "      <th>0</th>\n",
       "      <td>Alfa Romeo</td>\n",
       "      <td>107</td>\n",
       "    </tr>\n",
       "    <tr>\n",
       "      <th>1</th>\n",
       "      <td>Audi</td>\n",
       "      <td>2905</td>\n",
       "    </tr>\n",
       "    <tr>\n",
       "      <th>2</th>\n",
       "      <td>BMW</td>\n",
       "      <td>4133</td>\n",
       "    </tr>\n",
       "    <tr>\n",
       "      <th>3</th>\n",
       "      <td>Chevrolet</td>\n",
       "      <td>251</td>\n",
       "    </tr>\n",
       "    <tr>\n",
       "      <th>4</th>\n",
       "      <td>Chrysler</td>\n",
       "      <td>251</td>\n",
       "    </tr>\n",
       "  </tbody>\n",
       "</table>\n",
       "</div>"
      ],
      "text/plain": [
       "  Manufacturer  Add_count\n",
       "0   Alfa Romeo        107\n",
       "1         Audi       2905\n",
       "2          BMW       4133\n",
       "3    Chevrolet        251\n",
       "4     Chrysler        251"
      ]
     },
     "execution_count": 21,
     "metadata": {},
     "output_type": "execute_result"
    }
   ],
   "source": [
    "# same, but with list comprehension\n",
    "# get search results\n",
    "rows = soup.find('section', {'class': 'panel'}).findAll('a', {'class': 'search-dropdown'})\n",
    "data = [[row['title'], int(row.span.text)] for row in rows if int(row.span.text) >= 50]\n",
    "# create DataFrame with add count per manufacturer    \n",
    "df_man = pd.DataFrame(data, columns=['Manufacturer', 'Add_count'])\n",
    "df_man.head()"
   ]
  },
  {
   "cell_type": "markdown",
   "id": "d0f74028",
   "metadata": {},
   "source": [
    "## 2.2 Count how many adds per car manufacturer (second approach)"
   ]
  },
  {
   "cell_type": "code",
   "execution_count": 22,
   "id": "4e56b374",
   "metadata": {},
   "outputs": [],
   "source": [
    "url = 'https://autoplius.lt/'\n",
    "# go to page\n",
    "driver.get(url)\n",
    "# click car manufacturer element\n",
    "driver.find_element_by_xpath(\"//div[@class='display-input js-placeholder']\").click()"
   ]
  },
  {
   "cell_type": "code",
   "execution_count": 23,
   "id": "21d07fcc",
   "metadata": {},
   "outputs": [
    {
     "data": {
      "text/html": [
       "<div>\n",
       "<style scoped>\n",
       "    .dataframe tbody tr th:only-of-type {\n",
       "        vertical-align: middle;\n",
       "    }\n",
       "\n",
       "    .dataframe tbody tr th {\n",
       "        vertical-align: top;\n",
       "    }\n",
       "\n",
       "    .dataframe thead th {\n",
       "        text-align: right;\n",
       "    }\n",
       "</style>\n",
       "<table border=\"1\" class=\"dataframe\">\n",
       "  <thead>\n",
       "    <tr style=\"text-align: right;\">\n",
       "      <th></th>\n",
       "      <th>Manufacturer</th>\n",
       "      <th>Add_count</th>\n",
       "    </tr>\n",
       "  </thead>\n",
       "  <tbody>\n",
       "    <tr>\n",
       "      <th>0</th>\n",
       "      <td>Alfa Romeo</td>\n",
       "      <td>107</td>\n",
       "    </tr>\n",
       "    <tr>\n",
       "      <th>1</th>\n",
       "      <td>Audi</td>\n",
       "      <td>2905</td>\n",
       "    </tr>\n",
       "    <tr>\n",
       "      <th>2</th>\n",
       "      <td>BMW</td>\n",
       "      <td>4134</td>\n",
       "    </tr>\n",
       "    <tr>\n",
       "      <th>3</th>\n",
       "      <td>Chevrolet</td>\n",
       "      <td>252</td>\n",
       "    </tr>\n",
       "    <tr>\n",
       "      <th>4</th>\n",
       "      <td>Chrysler</td>\n",
       "      <td>251</td>\n",
       "    </tr>\n",
       "  </tbody>\n",
       "</table>\n",
       "</div>"
      ],
      "text/plain": [
       "  Manufacturer Add_count\n",
       "0   Alfa Romeo       107\n",
       "1         Audi      2905\n",
       "2          BMW      4134\n",
       "3    Chevrolet       252\n",
       "4     Chrysler       251"
      ]
     },
     "execution_count": 23,
     "metadata": {},
     "output_type": "execute_result"
    }
   ],
   "source": [
    "# get page sourse\n",
    "soup = BeautifulSoup(driver.page_source, \"lxml\")\n",
    "\n",
    "rows = soup.findAll('div', {'class': 'dropdown-option js-option'})\n",
    "# get manufacturer names with atleast 50 adds\n",
    "data = list()\n",
    "for row in rows:\n",
    "    # get contents\n",
    "    c = row.findAll('div')\n",
    "    if len(c)==2 and int(c[1].text) >= 50:\n",
    "        data.append([c[0].text, c[1].text])\n",
    "        \n",
    "# create DataFrame with add count per manufacturer    \n",
    "df_man = pd.DataFrame(data, columns=['Manufacturer', 'Add_count'])\n",
    "df_man.head()"
   ]
  },
  {
   "cell_type": "markdown",
   "id": "3085b538",
   "metadata": {},
   "source": [
    "# 3. Extract car info\n",
    "\n",
    "Iterate over all car adds with prices in range [2000-60000 eur] and which made not older than 10 year (i.e. made in 2011 and later).\n",
    "\n",
    "## 3.1 Test search engine on single page"
   ]
  },
  {
   "cell_type": "code",
   "execution_count": 24,
   "id": "9216e20f",
   "metadata": {},
   "outputs": [
    {
     "name": "stdout",
     "output_type": "stream",
     "text": [
      "https://autoplius.lt/skelbimai/naudoti-automobiliai?make_date_from=2011&sell_price_from=2000&sell_price_to=60000&page_nr=1\n"
     ]
    }
   ],
   "source": [
    "year_from = 2011\n",
    "# in euros\n",
    "price_min = 2000\n",
    "price_max = 60000\n",
    "\n",
    "# generate URL page\n",
    "url = 'https://autoplius.lt/skelbimai/naudoti-automobiliai?'\n",
    "url += f'make_date_from={year_from}&sell_price_from={price_min}&sell_price_to={price_max}&page_nr=1'\n",
    "# double check if it works\n",
    "print(url)"
   ]
  },
  {
   "cell_type": "code",
   "execution_count": 25,
   "id": "f49aa104",
   "metadata": {},
   "outputs": [
    {
     "data": {
      "text/html": [
       "<div>\n",
       "<style scoped>\n",
       "    .dataframe tbody tr th:only-of-type {\n",
       "        vertical-align: middle;\n",
       "    }\n",
       "\n",
       "    .dataframe tbody tr th {\n",
       "        vertical-align: top;\n",
       "    }\n",
       "\n",
       "    .dataframe thead th {\n",
       "        text-align: right;\n",
       "    }\n",
       "</style>\n",
       "<table border=\"1\" class=\"dataframe\">\n",
       "  <thead>\n",
       "    <tr style=\"text-align: right;\">\n",
       "      <th></th>\n",
       "      <th>Model</th>\n",
       "      <th>Made_year</th>\n",
       "      <th>ADD_URL</th>\n",
       "    </tr>\n",
       "  </thead>\n",
       "  <tbody>\n",
       "    <tr>\n",
       "      <th>0</th>\n",
       "      <td>BMW 730</td>\n",
       "      <td>2016</td>\n",
       "      <td>https://autoplius.lt/skelbimai/bmw-730-3-0-l-s...</td>\n",
       "    </tr>\n",
       "    <tr>\n",
       "      <th>1</th>\n",
       "      <td>Nissan Qashqai</td>\n",
       "      <td>2014</td>\n",
       "      <td>https://autoplius.lt/skelbimai/nissan-qashqai-...</td>\n",
       "    </tr>\n",
       "    <tr>\n",
       "      <th>2</th>\n",
       "      <td>Volkswagen Tiguan</td>\n",
       "      <td>2018</td>\n",
       "      <td>https://autoplius.lt/skelbimai/volkswagen-tigu...</td>\n",
       "    </tr>\n",
       "    <tr>\n",
       "      <th>3</th>\n",
       "      <td>BMW X5</td>\n",
       "      <td>2015</td>\n",
       "      <td>https://autoplius.lt/skelbimai/bmw-x5-3-0-l-vi...</td>\n",
       "    </tr>\n",
       "    <tr>\n",
       "      <th>4</th>\n",
       "      <td>Land Rover Range Rover Sport</td>\n",
       "      <td>2014</td>\n",
       "      <td>https://autoplius.lt/skelbimai/land-rover-rang...</td>\n",
       "    </tr>\n",
       "  </tbody>\n",
       "</table>\n",
       "</div>"
      ],
      "text/plain": [
       "                          Model Made_year  \\\n",
       "0                       BMW 730      2016   \n",
       "1                Nissan Qashqai      2014   \n",
       "2             Volkswagen Tiguan      2018   \n",
       "3                        BMW X5      2015   \n",
       "4  Land Rover Range Rover Sport      2014   \n",
       "\n",
       "                                             ADD_URL  \n",
       "0  https://autoplius.lt/skelbimai/bmw-730-3-0-l-s...  \n",
       "1  https://autoplius.lt/skelbimai/nissan-qashqai-...  \n",
       "2  https://autoplius.lt/skelbimai/volkswagen-tigu...  \n",
       "3  https://autoplius.lt/skelbimai/bmw-x5-3-0-l-vi...  \n",
       "4  https://autoplius.lt/skelbimai/land-rover-rang...  "
      ]
     },
     "execution_count": 25,
     "metadata": {},
     "output_type": "execute_result"
    }
   ],
   "source": [
    "# for faster loading (there is no need for JavaScript rendering)\n",
    "# use basic request library with bs4\n",
    "# get raw HTML\n",
    "resp = requests.get(url)\n",
    "# use beautiful soup to parse html code\n",
    "soup = BeautifulSoup(resp.text, \"lxml\")\n",
    "\n",
    "# get all adds\n",
    "adds = soup.find('div', {'class': 'auto-lists lt'}).findAll('a', {'target': '_blank'})\n",
    "\n",
    "# temporaty list to store recorded data\n",
    "_data = list()\n",
    "\n",
    "for add in adds:\n",
    "    # exclude month, get only first 4 symbols\n",
    "    year_made = add.find('span', {'title': \"Pagaminimo data\"}).text.strip()[:4]\n",
    "    add_url = add['href']\n",
    "    # car name\n",
    "    car_name = add.find('div', {'class': \"announcement-title\"}).text.strip().split(',')[0]\n",
    "    _data.append([car_name, year_made, add_url])\n",
    "    \n",
    "# create new DataFrame to store which cars were searched\n",
    "df_adds = pd.DataFrame(_data, columns=['Model', 'Made_year', 'ADD_URL'])\n",
    "df_adds.head()"
   ]
  },
  {
   "cell_type": "markdown",
   "id": "0ff03f83",
   "metadata": {},
   "source": [
    "## 3.2 Read adds urls for first 10 pages"
   ]
  },
  {
   "cell_type": "code",
   "execution_count": 26,
   "id": "fa4d6f5f",
   "metadata": {},
   "outputs": [
    {
     "data": {
      "text/html": [
       "<div>\n",
       "<style scoped>\n",
       "    .dataframe tbody tr th:only-of-type {\n",
       "        vertical-align: middle;\n",
       "    }\n",
       "\n",
       "    .dataframe tbody tr th {\n",
       "        vertical-align: top;\n",
       "    }\n",
       "\n",
       "    .dataframe thead th {\n",
       "        text-align: right;\n",
       "    }\n",
       "</style>\n",
       "<table border=\"1\" class=\"dataframe\">\n",
       "  <thead>\n",
       "    <tr style=\"text-align: right;\">\n",
       "      <th></th>\n",
       "      <th>Car</th>\n",
       "      <th>Year_made</th>\n",
       "      <th>Add_url</th>\n",
       "    </tr>\n",
       "  </thead>\n",
       "  <tbody>\n",
       "    <tr>\n",
       "      <th>0</th>\n",
       "      <td>BMW 730</td>\n",
       "      <td>2016</td>\n",
       "      <td>https://autoplius.lt/skelbimai/bmw-730-3-0-l-s...</td>\n",
       "    </tr>\n",
       "    <tr>\n",
       "      <th>1</th>\n",
       "      <td>Nissan Qashqai</td>\n",
       "      <td>2014</td>\n",
       "      <td>https://autoplius.lt/skelbimai/nissan-qashqai-...</td>\n",
       "    </tr>\n",
       "    <tr>\n",
       "      <th>2</th>\n",
       "      <td>Audi A5 SPORTBACK</td>\n",
       "      <td>2010</td>\n",
       "      <td>https://autoplius.lt/skelbimai/audi-a5-sportba...</td>\n",
       "    </tr>\n",
       "    <tr>\n",
       "      <th>3</th>\n",
       "      <td>BMW 530 Gran Turismo</td>\n",
       "      <td>2010</td>\n",
       "      <td>https://autoplius.lt/skelbimai/bmw-530-gran-tu...</td>\n",
       "    </tr>\n",
       "    <tr>\n",
       "      <th>4</th>\n",
       "      <td>Volkswagen Tiguan</td>\n",
       "      <td>2018</td>\n",
       "      <td>https://autoplius.lt/skelbimai/volkswagen-tigu...</td>\n",
       "    </tr>\n",
       "  </tbody>\n",
       "</table>\n",
       "</div>"
      ],
      "text/plain": [
       "                    Car Year_made  \\\n",
       "0               BMW 730      2016   \n",
       "1        Nissan Qashqai      2014   \n",
       "2     Audi A5 SPORTBACK      2010   \n",
       "3  BMW 530 Gran Turismo      2010   \n",
       "4     Volkswagen Tiguan      2018   \n",
       "\n",
       "                                             Add_url  \n",
       "0  https://autoplius.lt/skelbimai/bmw-730-3-0-l-s...  \n",
       "1  https://autoplius.lt/skelbimai/nissan-qashqai-...  \n",
       "2  https://autoplius.lt/skelbimai/audi-a5-sportba...  \n",
       "3  https://autoplius.lt/skelbimai/bmw-530-gran-tu...  \n",
       "4  https://autoplius.lt/skelbimai/volkswagen-tigu...  "
      ]
     },
     "execution_count": 26,
     "metadata": {},
     "output_type": "execute_result"
    }
   ],
   "source": [
    "# get adds for first 10 pages\n",
    "year_from = 2010\n",
    "# in euros\n",
    "price_min = 2000\n",
    "price_max = 60000\n",
    "\n",
    "# generate URL page\n",
    "url = 'https://autoplius.lt/skelbimai/naudoti-automobiliai?'\n",
    "url += f'make_date_from={year_from}&sell_price_from={price_min}&sell_price_to={price_max}&page_nr='\n",
    "\n",
    "# temp list to store adds info\n",
    "_data = list()\n",
    "\n",
    "for page in range(1, 11):\n",
    "    # temporary url\n",
    "    _url = url + str(page)\n",
    "    # get raw HTML\n",
    "    resp = requests.get(_url)\n",
    "    # use beautiful soup to parse html code\n",
    "    soup = BeautifulSoup(resp.text, \"lxml\")\n",
    "    # get all adds\n",
    "    adds = soup.find('div', {'class': 'auto-lists lt'}).findAll('a', {'target': '_blank'})\n",
    "\n",
    "    for add in adds:\n",
    "        # exclude month, get only first 4 symbols\n",
    "        year_made = add.find('span', {'title': \"Pagaminimo data\"}).text.strip()[:4]\n",
    "        add_url = add['href']\n",
    "        # car name\n",
    "        car_name = add.find('div', {'class': \"announcement-title\"}).text.strip().split(',')[0]\n",
    "        _data.append([car_name, year_made, add_url])\n",
    "        \n",
    "    # add explicit wait random wait from 200 ms to 2 sec\n",
    "    time.sleep(np.random.randint(1, 20)/20)\n",
    "    \n",
    "# create new DataFrame with add's urls\n",
    "df_adds = pd.DataFrame(_data, columns=['Car', 'Year_made', 'Add_url'])\n",
    "df_adds.head()"
   ]
  },
  {
   "cell_type": "code",
   "execution_count": 27,
   "id": "37f1fab4",
   "metadata": {},
   "outputs": [
    {
     "name": "stdout",
     "output_type": "stream",
     "text": [
      "Before droping 200 found\n",
      "After droping 175 found\n"
     ]
    }
   ],
   "source": [
    "# drop duplicates, keep first add which appears in DataFrame\n",
    "print(f'Before droping {len(df_adds)} found')\n",
    "df_adds = df_adds.drop_duplicates(subset=['Car', 'Year_made'], keep='first')\n",
    "print(f'After droping {len(df_adds)} found')"
   ]
  },
  {
   "cell_type": "markdown",
   "id": "9827e97f",
   "metadata": {},
   "source": [
    "### One can use `while` loop to extract all available add pages\n",
    "\n",
    "But such approach requires longer waits so that bot doesn't get detected (too frequent http requests)."
   ]
  },
  {
   "cell_type": "code",
   "execution_count": 28,
   "id": "abd75c77",
   "metadata": {},
   "outputs": [
    {
     "name": "stdout",
     "output_type": "stream",
     "text": [
      "https://autoplius.lt/skelbimai/naudoti-automobiliai?make_date_from=2011&make_date_to=2011&sell_price_from=2000&sell_price_to=60000&sell_price_to=60000&page_nr=\n"
     ]
    }
   ],
   "source": [
    "# get adds for only one year\n",
    "year_min = 2011\n",
    "year_max = 2011\n",
    "# in euros\n",
    "price_min = 2000\n",
    "price_max = 60000\n",
    "\n",
    "# generate URL page\n",
    "url = 'https://autoplius.lt/skelbimai/naudoti-automobiliai?'\n",
    "url += f'make_date_from={year_min}&make_date_to={year_max}'\n",
    "url += f'&sell_price_from={price_min}&sell_price_to={price_max}&sell_price_to=60000&page_nr='\n",
    "print(url)"
   ]
  },
  {
   "cell_type": "code",
   "execution_count": 29,
   "id": "8be3a62d",
   "metadata": {},
   "outputs": [
    {
     "name": "stdout",
     "output_type": "stream",
     "text": [
      "10 pages loaded.\n",
      "20 pages loaded.\n",
      "30 pages loaded.\n",
      "40 pages loaded.\n",
      "50 pages loaded.\n",
      "60 pages loaded.\n",
      "70 pages loaded.\n",
      "80 pages loaded.\n",
      "90 pages loaded.\n",
      "98 pages loaded.\n",
      "Before droping unique values 1923 found\n",
      "After droping unique values 318 found\n"
     ]
    }
   ],
   "source": [
    "# temp list to store adds info\n",
    "_data = list()\n",
    "# for creating new url and sending progress messages\n",
    "page = 1\n",
    "\n",
    "# temporary url\n",
    "_url = url + str(page)\n",
    "# get raw HTML\n",
    "resp = requests.get(_url)\n",
    "# use beautiful soup to parse html code\n",
    "soup = BeautifulSoup(resp.text, \"lxml\")\n",
    "\n",
    "while soup.find('a', {'class': 'next'}):\n",
    "    # temporary url\n",
    "    _url = url + str(page)\n",
    "    # get raw HTML\n",
    "    resp = requests.get(_url)\n",
    "    # use beautiful soup to parse html code\n",
    "    soup = BeautifulSoup(resp.text, \"lxml\")\n",
    "    # get all adds\n",
    "    adds = soup.find('div', {'class': 'auto-lists lt'}).findAll('a', {'target': '_blank'})\n",
    "\n",
    "    for add in adds:\n",
    "        # exclude month, get only first 4 symbols\n",
    "        year_made = add.find('span', {'title': \"Pagaminimo data\"}).text.strip()[:4]\n",
    "        add_url = add['href']\n",
    "        # car name\n",
    "        car_name = add.find('div', {'class': \"announcement-title\"}).text.strip().split(',')[0]\n",
    "        _data.append([car_name, year_made, add_url])\n",
    "        \n",
    "    # add explicit wait random wait from 100 ms to 2 sec\n",
    "    time.sleep(np.random.randint(1, 20)/20)\n",
    "    \n",
    "    # send progress every 10 pages\n",
    "    if page%10 == 0:\n",
    "        print(f'{page} pages loaded.')\n",
    "    \n",
    "    page += 1    \n",
    "    \n",
    "print(f'{page} pages loaded.')\n",
    "\n",
    "# create new DataFrame with add's urls\n",
    "df_adds = pd.DataFrame(_data, columns=['Car', 'Year_made', 'Add_url'])\n",
    "print(f'Before droping unique values {len(df_adds)} found')\n",
    "\n",
    "# drop duplicates, keep first add which appears in DataFrame\n",
    "df_adds = df_adds.drop_duplicates(subset=['Car', 'Year_made'], keep='first').reset_index(drop=True)\n",
    "print(f'After droping unique values {len(df_adds)} found')"
   ]
  },
  {
   "cell_type": "markdown",
   "id": "4d1c375c",
   "metadata": {},
   "source": [
    "## 3.3 Scrape all devaluation graphs\n",
    "\n",
    "This is just test. This code should be implemented into `.py` file script and run in `head-less` mode or copied to cloud, e.g. Google colab."
   ]
  },
  {
   "cell_type": "code",
   "execution_count": 30,
   "id": "d2695bfd",
   "metadata": {},
   "outputs": [
    {
     "name": "stdout",
     "output_type": "stream",
     "text": [
      "10/318 completed.\n",
      "20/318 completed.\n"
     ]
    }
   ],
   "source": [
    "# create empty DataFrame\n",
    "df_dep = pd.DataFrame()\n",
    "\n",
    "# iterate over first 20 car adds\n",
    "for idx in df_adds.index[:20]:\n",
    "    # temporary URL\n",
    "    _url = df_adds.loc[idx, 'Add_url']\n",
    "    # generate file name for saving depretiation graphs\n",
    "    # add ~ as separator for seperating file names\n",
    "    _fname = df_adds.loc[idx, 'Car'].replace(' ', '_') + '~' + df_adds.loc[idx, 'Year_made'] + '.png'\n",
    "    # read chart, save to temporary DataFrame\n",
    "    _df = read_chart(_url, _fname)\n",
    "    \n",
    "    if _df is not None:\n",
    "        _df['Car'] = df_adds.loc[idx, 'Car']\n",
    "        _df['Year_made'] = df_adds.loc[idx, 'Year_made']\n",
    "        df_dep = pd.concat([df_dep, _df])\n",
    "    else:\n",
    "        # generate error message if _df == None\n",
    "        msg = f\"Dep. charts not found for {df_adds.loc[idx, 'Car']} made in {df_adds.loc[idx, 'Year_made']}.\"\n",
    "        print(msg)\n",
    "        \n",
    "    if (idx+1)%10 == 0:\n",
    "        # temporary message about progress\n",
    "        print(f'{idx+1}/{len(df_adds)} completed.')"
   ]
  },
  {
   "cell_type": "code",
   "execution_count": 31,
   "id": "317a515b",
   "metadata": {},
   "outputs": [
    {
     "data": {
      "text/html": [
       "<div>\n",
       "<style scoped>\n",
       "    .dataframe tbody tr th:only-of-type {\n",
       "        vertical-align: middle;\n",
       "    }\n",
       "\n",
       "    .dataframe tbody tr th {\n",
       "        vertical-align: top;\n",
       "    }\n",
       "\n",
       "    .dataframe thead th {\n",
       "        text-align: right;\n",
       "    }\n",
       "</style>\n",
       "<table border=\"1\" class=\"dataframe\">\n",
       "  <thead>\n",
       "    <tr style=\"text-align: right;\">\n",
       "      <th></th>\n",
       "      <th>Year</th>\n",
       "      <th>Low</th>\n",
       "      <th>Medium</th>\n",
       "      <th>High</th>\n",
       "      <th>Car</th>\n",
       "      <th>Year_made</th>\n",
       "    </tr>\n",
       "  </thead>\n",
       "  <tbody>\n",
       "    <tr>\n",
       "      <th>0</th>\n",
       "      <td>2011</td>\n",
       "      <td>12700</td>\n",
       "      <td>18600</td>\n",
       "      <td>20200</td>\n",
       "      <td>Volkswagen Tiguan</td>\n",
       "      <td>2011</td>\n",
       "    </tr>\n",
       "    <tr>\n",
       "      <th>1</th>\n",
       "      <td>2012</td>\n",
       "      <td>17900</td>\n",
       "      <td>19900</td>\n",
       "      <td>21400</td>\n",
       "      <td>Volkswagen Tiguan</td>\n",
       "      <td>2011</td>\n",
       "    </tr>\n",
       "    <tr>\n",
       "      <th>2</th>\n",
       "      <td>2013</td>\n",
       "      <td>10000</td>\n",
       "      <td>13300</td>\n",
       "      <td>16300</td>\n",
       "      <td>Volkswagen Tiguan</td>\n",
       "      <td>2011</td>\n",
       "    </tr>\n",
       "    <tr>\n",
       "      <th>3</th>\n",
       "      <td>2014</td>\n",
       "      <td>10000</td>\n",
       "      <td>12400</td>\n",
       "      <td>15500</td>\n",
       "      <td>Volkswagen Tiguan</td>\n",
       "      <td>2011</td>\n",
       "    </tr>\n",
       "    <tr>\n",
       "      <th>4</th>\n",
       "      <td>2015</td>\n",
       "      <td>10300</td>\n",
       "      <td>13200</td>\n",
       "      <td>15900</td>\n",
       "      <td>Volkswagen Tiguan</td>\n",
       "      <td>2011</td>\n",
       "    </tr>\n",
       "  </tbody>\n",
       "</table>\n",
       "</div>"
      ],
      "text/plain": [
       "   Year    Low Medium   High                Car Year_made\n",
       "0  2011  12700  18600  20200  Volkswagen Tiguan      2011\n",
       "1  2012  17900  19900  21400  Volkswagen Tiguan      2011\n",
       "2  2013  10000  13300  16300  Volkswagen Tiguan      2011\n",
       "3  2014  10000  12400  15500  Volkswagen Tiguan      2011\n",
       "4  2015  10300  13200  15900  Volkswagen Tiguan      2011"
      ]
     },
     "execution_count": 31,
     "metadata": {},
     "output_type": "execute_result"
    }
   ],
   "source": [
    "df_dep.head()"
   ]
  },
  {
   "cell_type": "code",
   "execution_count": 32,
   "id": "e9688957",
   "metadata": {},
   "outputs": [],
   "source": [
    "# save data to .csv\n",
    "df_dep.to_csv('2011_cars_test.csv')"
   ]
  },
  {
   "cell_type": "code",
   "execution_count": 33,
   "id": "13f5bf22",
   "metadata": {},
   "outputs": [],
   "source": [
    "# turn off webdriver\n",
    "driver.quit()"
   ]
  },
  {
   "cell_type": "code",
   "execution_count": null,
   "id": "120be397",
   "metadata": {},
   "outputs": [],
   "source": []
  }
 ],
 "metadata": {
  "kernelspec": {
   "display_name": "Python 3",
   "language": "python",
   "name": "python3"
  },
  "language_info": {
   "codemirror_mode": {
    "name": "ipython",
    "version": 3
   },
   "file_extension": ".py",
   "mimetype": "text/x-python",
   "name": "python",
   "nbconvert_exporter": "python",
   "pygments_lexer": "ipython3",
   "version": "3.8.8"
  }
 },
 "nbformat": 4,
 "nbformat_minor": 5
}
